{
 "cells": [
  {
   "cell_type": "markdown",
   "metadata": {},
   "source": [
    "# Importing and data cleaning "
   ]
  },
  {
   "cell_type": "code",
   "execution_count": 2,
   "metadata": {},
   "outputs": [
    {
     "name": "stdout",
     "output_type": "stream",
     "text": [
      "(373, 15)\n",
      "Subject ID    False\n",
      "MRI ID        False\n",
      "Group         False\n",
      "Visit         False\n",
      "MR Delay      False\n",
      "M/F           False\n",
      "Hand          False\n",
      "Age           False\n",
      "EDUC          False\n",
      "SES           False\n",
      "MMSE          False\n",
      "CDR           False\n",
      "eTIV          False\n",
      "nWBV          False\n",
      "ASF           False\n",
      "dtype: bool\n"
     ]
    },
    {
     "data": {
      "text/plain": [
       "(354, 15)"
      ]
     },
     "execution_count": 2,
     "metadata": {},
     "output_type": "execute_result"
    }
   ],
   "source": [
    "import pandas as pd \n",
    "\n",
    "dem= pd.read_csv('oasis_longitudinal.csv')\n",
    "\n",
    "print(dem.shape)\n",
    "dem = pd.DataFrame(dem)\n",
    "\n",
    "#recoding gender to 0 male and 1 female, needed for knn analysis later\n",
    "\n",
    "dem['M/F']= pd.get_dummies(dem['M/F']) #male has become 0 and female has become 1\n",
    "\n",
    "dem.head(20)\n",
    "\n",
    "#Removing na's from dataset \n",
    "dem.dropna(inplace = True, subset = ['SES']) # drops all rows only if SES has a NA value. \n",
    "print(dem.isnull().any()) \n",
    "dem.columns\n",
    "dem.shape\n",
    "\n",
    "\n"
   ]
  },
  {
   "cell_type": "markdown",
   "metadata": {},
   "source": [
    "# Scaling features "
   ]
  },
  {
   "cell_type": "code",
   "execution_count": 3,
   "metadata": {},
   "outputs": [
    {
     "data": {
      "text/html": [
       "<div>\n",
       "<style scoped>\n",
       "    .dataframe tbody tr th:only-of-type {\n",
       "        vertical-align: middle;\n",
       "    }\n",
       "\n",
       "    .dataframe tbody tr th {\n",
       "        vertical-align: top;\n",
       "    }\n",
       "\n",
       "    .dataframe thead th {\n",
       "        text-align: right;\n",
       "    }\n",
       "</style>\n",
       "<table border=\"1\" class=\"dataframe\">\n",
       "  <thead>\n",
       "    <tr style=\"text-align: right;\">\n",
       "      <th></th>\n",
       "      <th>Subject ID</th>\n",
       "      <th>MRI ID</th>\n",
       "      <th>Group</th>\n",
       "      <th>Visit</th>\n",
       "      <th>MR Delay</th>\n",
       "      <th>M/F</th>\n",
       "      <th>Hand</th>\n",
       "      <th>Age</th>\n",
       "      <th>EDUC</th>\n",
       "      <th>SES</th>\n",
       "      <th>MMSE</th>\n",
       "      <th>CDR</th>\n",
       "      <th>eTIV</th>\n",
       "      <th>nWBV</th>\n",
       "      <th>ASF</th>\n",
       "    </tr>\n",
       "  </thead>\n",
       "  <tbody>\n",
       "    <tr>\n",
       "      <th>0</th>\n",
       "      <td>OAS2_0001</td>\n",
       "      <td>OAS2_0001_MR1</td>\n",
       "      <td>Nondemented</td>\n",
       "      <td>1</td>\n",
       "      <td>0</td>\n",
       "      <td>0</td>\n",
       "      <td>R</td>\n",
       "      <td>1.277580</td>\n",
       "      <td>-0.243255</td>\n",
       "      <td>-0.406615</td>\n",
       "      <td>27.0</td>\n",
       "      <td>0.0</td>\n",
       "      <td>1987</td>\n",
       "      <td>0.696</td>\n",
       "      <td>0.883</td>\n",
       "    </tr>\n",
       "    <tr>\n",
       "      <th>1</th>\n",
       "      <td>OAS2_0001</td>\n",
       "      <td>OAS2_0001_MR2</td>\n",
       "      <td>Nondemented</td>\n",
       "      <td>2</td>\n",
       "      <td>457</td>\n",
       "      <td>0</td>\n",
       "      <td>R</td>\n",
       "      <td>1.405772</td>\n",
       "      <td>-0.243255</td>\n",
       "      <td>-0.406615</td>\n",
       "      <td>30.0</td>\n",
       "      <td>0.0</td>\n",
       "      <td>2004</td>\n",
       "      <td>0.681</td>\n",
       "      <td>0.876</td>\n",
       "    </tr>\n",
       "    <tr>\n",
       "      <th>5</th>\n",
       "      <td>OAS2_0004</td>\n",
       "      <td>OAS2_0004_MR1</td>\n",
       "      <td>Nondemented</td>\n",
       "      <td>1</td>\n",
       "      <td>0</td>\n",
       "      <td>1</td>\n",
       "      <td>R</td>\n",
       "      <td>1.405772</td>\n",
       "      <td>1.140076</td>\n",
       "      <td>0.476463</td>\n",
       "      <td>28.0</td>\n",
       "      <td>0.0</td>\n",
       "      <td>1215</td>\n",
       "      <td>0.710</td>\n",
       "      <td>1.444</td>\n",
       "    </tr>\n",
       "    <tr>\n",
       "      <th>6</th>\n",
       "      <td>OAS2_0004</td>\n",
       "      <td>OAS2_0004_MR2</td>\n",
       "      <td>Nondemented</td>\n",
       "      <td>2</td>\n",
       "      <td>538</td>\n",
       "      <td>1</td>\n",
       "      <td>R</td>\n",
       "      <td>1.662157</td>\n",
       "      <td>1.140076</td>\n",
       "      <td>0.476463</td>\n",
       "      <td>27.0</td>\n",
       "      <td>0.0</td>\n",
       "      <td>1200</td>\n",
       "      <td>0.718</td>\n",
       "      <td>1.462</td>\n",
       "    </tr>\n",
       "    <tr>\n",
       "      <th>7</th>\n",
       "      <td>OAS2_0005</td>\n",
       "      <td>OAS2_0005_MR1</td>\n",
       "      <td>Nondemented</td>\n",
       "      <td>1</td>\n",
       "      <td>0</td>\n",
       "      <td>0</td>\n",
       "      <td>R</td>\n",
       "      <td>0.380232</td>\n",
       "      <td>-0.934921</td>\n",
       "      <td>1.359542</td>\n",
       "      <td>28.0</td>\n",
       "      <td>0.0</td>\n",
       "      <td>1689</td>\n",
       "      <td>0.712</td>\n",
       "      <td>1.039</td>\n",
       "    </tr>\n",
       "    <tr>\n",
       "      <th>...</th>\n",
       "      <td>...</td>\n",
       "      <td>...</td>\n",
       "      <td>...</td>\n",
       "      <td>...</td>\n",
       "      <td>...</td>\n",
       "      <td>...</td>\n",
       "      <td>...</td>\n",
       "      <td>...</td>\n",
       "      <td>...</td>\n",
       "      <td>...</td>\n",
       "      <td>...</td>\n",
       "      <td>...</td>\n",
       "      <td>...</td>\n",
       "      <td>...</td>\n",
       "      <td>...</td>\n",
       "    </tr>\n",
       "    <tr>\n",
       "      <th>368</th>\n",
       "      <td>OAS2_0185</td>\n",
       "      <td>OAS2_0185_MR2</td>\n",
       "      <td>Demented</td>\n",
       "      <td>2</td>\n",
       "      <td>842</td>\n",
       "      <td>0</td>\n",
       "      <td>R</td>\n",
       "      <td>0.636617</td>\n",
       "      <td>0.448410</td>\n",
       "      <td>-1.289694</td>\n",
       "      <td>28.0</td>\n",
       "      <td>0.5</td>\n",
       "      <td>1693</td>\n",
       "      <td>0.694</td>\n",
       "      <td>1.037</td>\n",
       "    </tr>\n",
       "    <tr>\n",
       "      <th>369</th>\n",
       "      <td>OAS2_0185</td>\n",
       "      <td>OAS2_0185_MR3</td>\n",
       "      <td>Demented</td>\n",
       "      <td>3</td>\n",
       "      <td>2297</td>\n",
       "      <td>0</td>\n",
       "      <td>R</td>\n",
       "      <td>1.149387</td>\n",
       "      <td>0.448410</td>\n",
       "      <td>-1.289694</td>\n",
       "      <td>26.0</td>\n",
       "      <td>0.5</td>\n",
       "      <td>1688</td>\n",
       "      <td>0.675</td>\n",
       "      <td>1.040</td>\n",
       "    </tr>\n",
       "    <tr>\n",
       "      <th>370</th>\n",
       "      <td>OAS2_0186</td>\n",
       "      <td>OAS2_0186_MR1</td>\n",
       "      <td>Nondemented</td>\n",
       "      <td>1</td>\n",
       "      <td>0</td>\n",
       "      <td>1</td>\n",
       "      <td>R</td>\n",
       "      <td>-2.055426</td>\n",
       "      <td>-0.589088</td>\n",
       "      <td>-0.406615</td>\n",
       "      <td>30.0</td>\n",
       "      <td>0.0</td>\n",
       "      <td>1319</td>\n",
       "      <td>0.801</td>\n",
       "      <td>1.331</td>\n",
       "    </tr>\n",
       "    <tr>\n",
       "      <th>371</th>\n",
       "      <td>OAS2_0186</td>\n",
       "      <td>OAS2_0186_MR2</td>\n",
       "      <td>Nondemented</td>\n",
       "      <td>2</td>\n",
       "      <td>763</td>\n",
       "      <td>1</td>\n",
       "      <td>R</td>\n",
       "      <td>-1.799041</td>\n",
       "      <td>-0.589088</td>\n",
       "      <td>-0.406615</td>\n",
       "      <td>30.0</td>\n",
       "      <td>0.0</td>\n",
       "      <td>1327</td>\n",
       "      <td>0.796</td>\n",
       "      <td>1.323</td>\n",
       "    </tr>\n",
       "    <tr>\n",
       "      <th>372</th>\n",
       "      <td>OAS2_0186</td>\n",
       "      <td>OAS2_0186_MR3</td>\n",
       "      <td>Nondemented</td>\n",
       "      <td>3</td>\n",
       "      <td>1608</td>\n",
       "      <td>1</td>\n",
       "      <td>R</td>\n",
       "      <td>-1.542656</td>\n",
       "      <td>-0.589088</td>\n",
       "      <td>-0.406615</td>\n",
       "      <td>30.0</td>\n",
       "      <td>0.0</td>\n",
       "      <td>1333</td>\n",
       "      <td>0.801</td>\n",
       "      <td>1.317</td>\n",
       "    </tr>\n",
       "  </tbody>\n",
       "</table>\n",
       "<p>354 rows × 15 columns</p>\n",
       "</div>"
      ],
      "text/plain": [
       "    Subject ID         MRI ID        Group  Visit  MR Delay  M/F Hand  \\\n",
       "0    OAS2_0001  OAS2_0001_MR1  Nondemented      1         0    0    R   \n",
       "1    OAS2_0001  OAS2_0001_MR2  Nondemented      2       457    0    R   \n",
       "5    OAS2_0004  OAS2_0004_MR1  Nondemented      1         0    1    R   \n",
       "6    OAS2_0004  OAS2_0004_MR2  Nondemented      2       538    1    R   \n",
       "7    OAS2_0005  OAS2_0005_MR1  Nondemented      1         0    0    R   \n",
       "..         ...            ...          ...    ...       ...  ...  ...   \n",
       "368  OAS2_0185  OAS2_0185_MR2     Demented      2       842    0    R   \n",
       "369  OAS2_0185  OAS2_0185_MR3     Demented      3      2297    0    R   \n",
       "370  OAS2_0186  OAS2_0186_MR1  Nondemented      1         0    1    R   \n",
       "371  OAS2_0186  OAS2_0186_MR2  Nondemented      2       763    1    R   \n",
       "372  OAS2_0186  OAS2_0186_MR3  Nondemented      3      1608    1    R   \n",
       "\n",
       "          Age      EDUC       SES  MMSE  CDR  eTIV   nWBV    ASF  \n",
       "0    1.277580 -0.243255 -0.406615  27.0  0.0  1987  0.696  0.883  \n",
       "1    1.405772 -0.243255 -0.406615  30.0  0.0  2004  0.681  0.876  \n",
       "5    1.405772  1.140076  0.476463  28.0  0.0  1215  0.710  1.444  \n",
       "6    1.662157  1.140076  0.476463  27.0  0.0  1200  0.718  1.462  \n",
       "7    0.380232 -0.934921  1.359542  28.0  0.0  1689  0.712  1.039  \n",
       "..        ...       ...       ...   ...  ...   ...    ...    ...  \n",
       "368  0.636617  0.448410 -1.289694  28.0  0.5  1693  0.694  1.037  \n",
       "369  1.149387  0.448410 -1.289694  26.0  0.5  1688  0.675  1.040  \n",
       "370 -2.055426 -0.589088 -0.406615  30.0  0.0  1319  0.801  1.331  \n",
       "371 -1.799041 -0.589088 -0.406615  30.0  0.0  1327  0.796  1.323  \n",
       "372 -1.542656 -0.589088 -0.406615  30.0  0.0  1333  0.801  1.317  \n",
       "\n",
       "[354 rows x 15 columns]"
      ]
     },
     "execution_count": 3,
     "metadata": {},
     "output_type": "execute_result"
    }
   ],
   "source": [
    "from sklearn.preprocessing import StandardScaler\n",
    "scalar = StandardScaler()\n",
    "dem.iloc[:,[7,8,9]]= scalar.fit_transform(dem.iloc[:,[7,8,9]]) #rescaling age,education and socioeconomic status but not gender\n",
    "dem"
   ]
  },
  {
   "cell_type": "markdown",
   "metadata": {},
   "source": [
    "# Class distribution of dataset "
   ]
  },
  {
   "cell_type": "code",
   "execution_count": 4,
   "metadata": {},
   "outputs": [
    {
     "data": {
      "text/plain": [
       "Group\n",
       "Converted       37\n",
       "Demented       127\n",
       "Nondemented    190\n",
       "dtype: int64"
      ]
     },
     "execution_count": 4,
     "metadata": {},
     "output_type": "execute_result"
    }
   ],
   "source": [
    "dem.groupby('Group').size() #converted means coverted to dementia during the study "
   ]
  },
  {
   "cell_type": "markdown",
   "metadata": {},
   "source": [
    "# Univariate plot "
   ]
  },
  {
   "cell_type": "code",
   "execution_count": 5,
   "metadata": {},
   "outputs": [
    {
     "data": {
      "image/png": "[encoded data removed]",
      "text/plain": [
       "<Figure size 432x288 with 12 Axes>"
      ]
     },
     "metadata": {
      "needs_background": "light"
     },
     "output_type": "display_data"
    }
   ],
   "source": [
    "import matplotlib.pyplot as plt\n",
    "dem.hist()\n",
    "plt.show() #age is normally distributed "
   ]
  },
  {
   "cell_type": "markdown",
   "metadata": {},
   "source": [
    "# Multivariate plot "
   ]
  },
  {
   "cell_type": "code",
   "execution_count": 7,
   "metadata": {},
   "outputs": [
    {
     "data": {
      "image/png": "[encoded data removed]",
      "text/plain": [
       "<Figure size 432x288 with 1 Axes>"
      ]
     },
     "metadata": {
      "needs_background": "light"
     },
     "output_type": "display_data"
    }
   ],
   "source": [
    "#recoding to integers for dementia classes.\n",
    "\n",
    "Dict = {'Converted': 0,\n",
    "       'Demented': 1,\n",
    "       'Nondemented':2}\n",
    "\n",
    "colors = [Dict[item] for item in dem['Group']]\n",
    "scatter = plt.scatter(dem['EDUC'], dem['SES'], c = colors)\n"
   ]
  },
  {
   "cell_type": "markdown",
   "metadata": {},
   "source": [
    "# Modelling with KNN"
   ]
  },
  {
   "cell_type": "code",
   "execution_count": 8,
   "metadata": {},
   "outputs": [
    {
     "name": "stdout",
     "output_type": "stream",
     "text": [
      "Nondemented    132\n",
      "Demented        89\n",
      "Converted       26\n",
      "Name: Group, dtype: int64\n",
      "Nondemented    58\n",
      "Demented       38\n",
      "Converted      11\n",
      "Name: Group, dtype: int64\n"
     ]
    },
    {
     "data": {
      "text/plain": [
       "KNeighborsClassifier()"
      ]
     },
     "execution_count": 8,
     "metadata": {},
     "output_type": "execute_result"
    }
   ],
   "source": [
    "features = dem[['Age', 'M/F', 'EDUC', 'SES']]\n",
    "\n",
    "target = dem['Group']\n",
    "\n",
    "from sklearn.model_selection import train_test_split\n",
    "\n",
    "feat_train, feat_test, targ_train, targ_test = train_test_split(features, target,\n",
    "                                                               test_size = 0.3,\n",
    "                                                               random_state = 1,\n",
    "                                                                stratify = target)\n",
    "\n",
    "print(targ_train.value_counts())\n",
    "print(targ_test.value_counts())\n",
    "\n",
    "#statify ensures train/test splits are proportional to the whole dataset classes\n",
    "\n",
    "from sklearn.neighbors import KNeighborsClassifier\n",
    "\n",
    "knn = KNeighborsClassifier(n_neighbors = 5)  #instantiating \n",
    "\n",
    "#training the model \n",
    "\n",
    "knn.fit(feat_train, targ_train) #using default minkowski distance metric to fit the model\n",
    "\n"
   ]
  },
  {
   "cell_type": "markdown",
   "metadata": {},
   "source": [
    "# Prediction "
   ]
  },
  {
   "cell_type": "markdown",
   "metadata": {},
   "source": [
    "## Label prediction"
   ]
  },
  {
   "cell_type": "code",
   "execution_count": 9,
   "metadata": {},
   "outputs": [
    {
     "name": "stdout",
     "output_type": "stream",
     "text": [
      "['Nondemented' 'Demented' 'Nondemented' 'Nondemented' 'Converted']\n"
     ]
    }
   ],
   "source": [
    "targ_pred = knn.predict(feat_test) #using model on unseen test data to predict labels \n",
    "print(targ_pred[:5]) "
   ]
  },
  {
   "cell_type": "markdown",
   "metadata": {},
   "source": [
    "## probability prediction"
   ]
  },
  {
   "cell_type": "code",
   "execution_count": 10,
   "metadata": {},
   "outputs": [
    {
     "name": "stdout",
     "output_type": "stream",
     "text": [
      "[[0.  0.  1. ]\n",
      " [0.  1.  0. ]\n",
      " [0.  0.2 0.8]\n",
      " [0.  0.2 0.8]\n",
      " [0.6 0.  0.4]]\n",
      "['Nondemented' 'Demented' 'Nondemented' 'Nondemented' 'Converted']\n"
     ]
    }
   ],
   "source": [
    "targ_pred_prob = knn.predict_proba(feat_test) \n",
    "print(targ_pred_prob[:5]) #100% chance first observation is non demented, 100% chance second obs is demented\n",
    "#soft prediction whereas hard is \n",
    "\n",
    "print(targ_pred[:5]) #just selects the label but no prob towards each label."
   ]
  },
  {
   "cell_type": "markdown",
   "metadata": {},
   "source": [
    "# Model evaluation"
   ]
  },
  {
   "cell_type": "code",
   "execution_count": 11,
   "metadata": {},
   "outputs": [
    {
     "name": "stdout",
     "output_type": "stream",
     "text": [
      "107\n",
      "63\n",
      "0.5887850467289719\n"
     ]
    }
   ],
   "source": [
    "print(targ_test.size)\n",
    "print((targ_pred == targ_test).sum()) \n",
    "\n",
    "print((targ_pred == targ_test).sum()/targ_test.size) #The model got 59% accurate at classifying \n",
    "\n"
   ]
  },
  {
   "cell_type": "markdown",
   "metadata": {},
   "source": [
    "# Confusion matrix"
   ]
  },
  {
   "cell_type": "code",
   "execution_count": 12,
   "metadata": {},
   "outputs": [
    {
     "data": {
      "text/plain": [
       "array([[ 3,  2,  6],\n",
       "       [ 1, 22, 15],\n",
       "       [ 4, 16, 38]], dtype=int64)"
      ]
     },
     "execution_count": 12,
     "metadata": {},
     "output_type": "execute_result"
    }
   ],
   "source": [
    "#Classification accuracy alone can be misleading if there is an unequal number of observations in each class or if there \n",
    "#are more than two classes in the dataset. Calculating a confusion matrix will provide a better idea of what the \n",
    "#classification is getting right and what types of errors it is making.\n",
    "\n",
    "from sklearn.metrics import confusion_matrix\n",
    "\n",
    "confusion_matrix(targ_test, targ_pred, labels = ['Converted', 'Demented','Nondemented'])\n",
    "\n",
    "\n"
   ]
  },
  {
   "cell_type": "markdown",
   "metadata": {},
   "source": [
    "# K-fold cross validation "
   ]
  },
  {
   "cell_type": "code",
   "execution_count": 89,
   "metadata": {},
   "outputs": [
    {
     "name": "stdout",
     "output_type": "stream",
     "text": [
      "[0.45070423 0.6056338  0.50704225 0.47887324 0.35714286]\n",
      "0.4798792756539235\n"
     ]
    }
   ],
   "source": [
    "from sklearn.model_selection import cross_val_score\n",
    "\n",
    "knn_cv = KNeighborsClassifier(n_neighbors = 3) #new knn model\n",
    "\n",
    "#fitting 3 nearest neighbor model \n",
    "\n",
    "cv_scores = cross_val_score(knn_cv, features, target, cv =5 ) #5-fold \n",
    "\n",
    "print(cv_scores)\n",
    "print(cv_scores.mean()) #accuracy only 47% when we average them all! \n",
    "\n",
    "\n"
   ]
  },
  {
   "cell_type": "markdown",
   "metadata": {},
   "source": [
    "# Grid searching"
   ]
  },
  {
   "cell_type": "code",
   "execution_count": 18,
   "metadata": {},
   "outputs": [
    {
     "name": "stdout",
     "output_type": "stream",
     "text": [
      "{'n_neighbors': 7}\n"
     ]
    },
    {
     "data": {
      "text/plain": [
       "0.7372881355932204"
      ]
     },
     "execution_count": 18,
     "metadata": {},
     "output_type": "execute_result"
    }
   ],
   "source": [
    "from sklearn.model_selection import GridSearchCV\n",
    "\n",
    "import numpy as np\n",
    "\n",
    "knn2 = KNeighborsClassifier()\n",
    "\n",
    "#creating a dict to test all values of n_neighbors \n",
    "\n",
    "param_grid = {'n_neighbors':np.arange(2,10)}\n",
    "\n",
    "#Use gridsearch to test all values for n_neighbors\n",
    "\n",
    "knn_gscv = GridSearchCV(knn2, param_grid, cv = 5)\n",
    "\n",
    "#fit model to data \n",
    "\n",
    "knn_gscv.fit(features,target)\n",
    "\n",
    "#to check top n_neighbors value\n",
    "print(knn_gscv.best_params_) \n",
    "\n",
    "#what is the accuracy when neighbors = 7\n",
    "\n",
    "knn_gscv.best_score_ # finding optimal hyperparameter improved model by 3%. 50% all up\n",
    "\n",
    "#Now to build final model \n",
    "\n",
    "knn_final = KNeighborsClassifier(n_neighbors=knn_gscv.best_params_['n_neighbors']) #indexing n_neighbors makes sure we print out 7 instead of\n",
    "#the dictionary key with the value 7\n",
    "\n",
    "#print(knn_gscv.best_params_) #this would do dict with value\n",
    "\n",
    "knn_final.fit(features,target)\n",
    "targ_pred = knn_final.predict(features)\n",
    "knn_final.score(features,target) #predicts dementia presense at 73% which is a marked improvement of 50%"
   ]
  },
  {
   "cell_type": "markdown",
   "metadata": {},
   "source": [
    "# Extra: label prediction with new data"
   ]
  },
  {
   "cell_type": "code",
   "execution_count": 102,
   "metadata": {},
   "outputs": [
    {
     "name": "stdout",
     "output_type": "stream",
     "text": [
      "         Age  M/F      EDUC       SES\n",
      "0   1.277580    0 -0.243255 -0.406615\n",
      "1   1.405772    0 -0.243255 -0.406615\n",
      "5   1.405772    1  1.140076  0.476463\n",
      "6   1.662157    1  1.140076  0.476463\n",
      "7   0.380232    0 -0.934921  1.359542\n",
      "8   0.764810    0 -0.934921  1.359542\n",
      "9   1.021195    0 -0.934921  1.359542\n",
      "13  2.046735    1 -0.243255 -0.406615\n",
      "14  2.303120    1 -0.243255 -0.406615\n",
      "15 -1.158078    0 -0.934921 -0.406615\n",
      "['Converted']\n"
     ]
    }
   ],
   "source": [
    "print(features.head(10))\n",
    "new_data = np.array([1.277580, 0, -0.243255, -0.406615]) #should predict non demented\n",
    "\n",
    "new_data = new_data.reshape(1,-1) #will make it compatible or can just use two square brackets for new_data to mean 2D\n",
    "\n",
    "new_data.shape\n",
    "\n",
    "print(knn_final.predict(new_data)) #got it wrong!\n",
    " \n",
    "\n"
   ]
  },
  {
   "cell_type": "code",
   "execution_count": null,
   "metadata": {},
   "outputs": [],
   "source": []
  }
 ],
 "metadata": {
  "kernelspec": {
   "display_name": "Python 3",
   "language": "python",
   "name": "python3"
  },
  "language_info": {
   "codemirror_mode": {
    "name": "ipython",
    "version": 3
   },
   "file_extension": ".py",
   "mimetype": "text/x-python",
   "name": "python",
   "nbconvert_exporter": "python",
   "pygments_lexer": "ipython3",
   "version": "3.8.3"
  }
 },
 "nbformat": 4,
 "nbformat_minor": 4
}
